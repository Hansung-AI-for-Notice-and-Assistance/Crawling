{
 "cells": [
  {
   "cell_type": "code",
   "execution_count": null,
   "id": "6ecabf57",
   "metadata": {},
   "outputs": [
    {
     "name": "stdout",
     "output_type": "stream",
     "text": [
      "-> 이미지만 존재하는 공지 발견: 「2025 성북 청년의 날 축제」안내\n",
      "✅ OCR 텍스트 추출 성공\n",
      "🗑️ 임시 파일 삭제 완료: ./pdf\\temp.pdf\n",
      "-> 이미지만 존재하는 공지 발견: 「나라키움 대학생주택」 2025년 2학기(9~12월) 추가모집 안내\n",
      "✅ OCR 텍스트 추출 성공\n",
      "🗑️ 임시 파일 삭제 완료: ./pdf\\temp.pdf\n",
      "-> 이미지만 존재하는 공지 발견: [건강검진무료] 2025년 재학생 건강검진 안내\n",
      "✅ OCR 텍스트 추출 성공\n",
      "🗑️ 임시 파일 삭제 완료: ./pdf\\temp.pdf\n",
      "-> 이미지만 존재하는 공지 발견: 케이키친한상  카페 한담  안내\n",
      "✅ OCR 텍스트 추출 성공\n",
      "🗑️ 임시 파일 삭제 완료: ./pdf\\temp.pdf\n",
      "-> 이미지만 존재하는 공지 발견: 2025년 (재)고속도로장학재단 고속도로 장학생 모집 안내(10/10 마감)\n",
      "✅ OCR 텍스트 추출 성공\n",
      "🗑️ 임시 파일 삭제 완료: ./pdf\\temp.pdf\n",
      "-> 이미지만 존재하는 공지 발견: 2025년도 (재)인천인재평생교육진흥원 하반기 장학생 선발 안내(10/9 마감)\n",
      "✅ OCR 텍스트 추출 성공\n",
      "🗑️ 임시 파일 삭제 완료: ./pdf\\temp.pdf\n",
      "-> 이미지만 존재하는 공지 발견: 2025학년도 2학기 공휴일 수업운영 안내\n"
     ]
    },
    {
     "name": "stderr",
     "output_type": "stream",
     "text": [
      "Image contains an alpha channel. Computing a separate soft mask (/SMask) image to store transparency in PDF.\n"
     ]
    },
    {
     "name": "stdout",
     "output_type": "stream",
     "text": [
      "✅ OCR 텍스트 추출 성공\n",
      "🗑️ 임시 파일 삭제 완료: ./pdf\\temp.pdf\n",
      "-> 이미지만 존재하는 공지 발견: 2025년 (재)두을장학재단 제28기 장학생 모집 안내(9/30 마감)\n",
      "✅ OCR 텍스트 추출 성공\n",
      "🗑️ 임시 파일 삭제 완료: ./pdf\\temp.pdf\n",
      "-> 이미지만 존재하는 공지 발견: [대플] 「2025년 한성대학교 직무박람회 - 상상대로 Festival」 안내\n",
      "✅ OCR 텍스트 추출 성공\n",
      "🗑️ 임시 파일 삭제 완료: ./pdf\\temp.pdf\n",
      "-> 이미지만 존재하는 공지 발견: 2025 제12회 라틴아메리카축제 안내\n",
      "✅ OCR 텍스트 추출 성공\n",
      "🗑️ 임시 파일 삭제 완료: ./pdf\\temp.pdf\n",
      "-> 이미지만 존재하는 공지 발견: 2025년 하반기 익산시 대학생 학자금 대출이자 지원 안내(9/19 마감)\n",
      "✅ OCR 텍스트 추출 성공\n",
      "🗑️ 임시 파일 삭제 완료: ./pdf\\temp.pdf\n",
      "-> 이미지만 존재하는 공지 발견: 2025년 2학기 국가장학금 신청자 가구원 동의 독려 안내(9/17 마감)\n",
      "✅ OCR 텍스트 추출 성공\n",
      "🗑️ 임시 파일 삭제 완료: ./pdf\\temp.pdf\n",
      "총 30개의 공지사항이 성공적으로 저장되었습니다!\n",
      "이미지만 있는 공지는 총 12개입니다.\n"
     ]
    }
   ],
   "source": [
    "from db import FileDB\n",
    "from crawling import rss_crawl\n",
    "\n",
    "# DB 정의\n",
    "file_db = FileDB()\n",
    "\n",
    "# 실행\n",
    "page = 1\n",
    "\n",
    "await rss_crawl(\n",
    "    db=file_db,\n",
    "    max_pages=page\n",
    ")"
   ]
  }
 ],
 "metadata": {
  "kernelspec": {
   "display_name": "crawling",
   "language": "python",
   "name": "python3"
  },
  "language_info": {
   "codemirror_mode": {
    "name": "ipython",
    "version": 3
   },
   "file_extension": ".py",
   "mimetype": "text/x-python",
   "name": "python",
   "nbconvert_exporter": "python",
   "pygments_lexer": "ipython3",
   "version": "3.11.7"
  }
 },
 "nbformat": 4,
 "nbformat_minor": 5
}
